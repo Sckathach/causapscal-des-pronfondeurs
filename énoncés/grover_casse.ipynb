{
 "cells": [
  {
   "cell_type": "code",
   "execution_count": null,
   "id": "2db36e0c",
   "metadata": {},
   "outputs": [],
   "source": [
    "from machinerie import Circuit, draw404\n",
    "\n",
    "draw404()"
   ]
  },
  {
   "cell_type": "markdown",
   "id": "5a9129d1",
   "metadata": {},
   "source": [
    "# Challenge 3 : Algorithme de Grover _cassé_ (2/2)\n",
    "\n",
    "Notre ingénieur s'est trompé lorsqu'il a programmé l'algorithme, il a oublié des $H$... Comment faire pour récupérer le drapeau ? \n",
    "\n",
    "Soit un drapeau \"0011011\", le circuit complet s'écrit : "
   ]
  },
  {
   "cell_type": "code",
   "execution_count": null,
   "id": "a82b7129",
   "metadata": {},
   "outputs": [],
   "source": [
    "from machinerie import create_grover\n",
    "\n",
    "flag = [0, 0, 1, 1, 0, 1, 1]\n",
    "n = len(flag)\n",
    "\n",
    "grover = create_grover(flag, range(n), range(n))\n",
    "grover.draw_circuit()"
   ]
  },
  {
   "cell_type": "code",
   "execution_count": null,
   "id": "e330a360",
   "metadata": {},
   "outputs": [],
   "source": [
    "full_circuit = Circuit(n)\n",
    "full_circuit.h(range(n))\n",
    "full_circuit.compose(grover, inplace=True)\n",
    "full_circuit.compose(grover, inplace=True)\n",
    "full_circuit.compose(grover, inplace=True)\n",
    "full_circuit.compose(grover, inplace=True)\n",
    "results = full_circuit.get_measure()\n",
    "drapeau = sorted(results, key=lambda x: x[1], reverse=True)[0]\n",
    "print(f\"\"\"\n",
    "Drapeau : {drapeau}\n",
    "Probabilité : {results[drapeau]}\n",
    "\"\"\")"
   ]
  },
  {
   "cell_type": "markdown",
   "id": "59847c29",
   "metadata": {},
   "source": [
    "À une inversion près, on retrouve notre drapeau en 4 coups, ... quand le circuit est bien implémenté. Ce n'est malheureusement pas le cas pour le circuit sur nos serveurs, il manque au moins 2 $H$ par colonne...\n",
    "\n",
    "Par exemple : "
   ]
  },
  {
   "cell_type": "code",
   "execution_count": null,
   "id": "9c855fdc",
   "metadata": {},
   "outputs": [],
   "source": [
    "grover = create_grover(flag, range(n - 2), range(n - 2))\n",
    "grover.draw_circuit()"
   ]
  },
  {
   "cell_type": "markdown",
   "id": "4b7a8935",
   "metadata": {},
   "source": [
    "Pour couronner le tout, il n'y a qu'une passe qui a été implémentée.\n",
    "\n",
    "**Votre mission : récupérer le drapeau.**\n",
    "\n",
    "Vous avez accès à 3 paramètres : \n",
    "- l'entrée\n",
    "- les positions des $H$ entre $Z_f$ et $Z_\\text{OR}$ - vous avez le droit d'en poser $\\leq n-2$\n",
    "- les positions des $H$ après $Z_\\text{OR}$ - vous avez le droit d'en poser $\\leq n-2$\n",
    "\n",
    "à travers la fonction `test_flag_grover` (j'utilise exactement la même fonction côté API).\n",
    "\n",
    "\n",
    "Pour éviter le brute force sur le CTFd directement, **vous devrez reproduire la procédure deux fois, pour récupérer deux drapeaux de 12 bits chacuns,** le drapeau final sera `404CTF{premier_flag+deuxième_flag}`, par exemple : `404CTF{0101010101010101010101010}`\n",
    "\n",
    "Pour éviter l'explosion de votre ordinateur lors de l'appel à `get_flat_unitary`, vous utiliserez des angles pour m'envoyer votre entrée. À partir d'une liste de $n*3$ flottants, je construis n'importe quel état d'entré avec des portes $U$. Les angles sont ceux de la sphère de Bloch. Vous avez l'implémentation dans `Circuit` : `Circuit.from_angles()`.\n",
    "\n",
    "Par exemple deux Hadamards : "
   ]
  },
  {
   "cell_type": "code",
   "execution_count": null,
   "id": "225b3017",
   "metadata": {},
   "outputs": [],
   "source": [
    "from math import pi\n",
    "\n",
    "# theta_0, phi_0, lambda_0, theta_1, ...\n",
    "angles = [pi / 2, 0, pi, pi / 2, 0, pi]\n",
    "qc = Circuit.from_angles(angles)\n",
    "qc.draw_qubits()"
   ]
  },
  {
   "cell_type": "markdown",
   "id": "5d1f40fc",
   "metadata": {},
   "source": [
    "\n",
    "En appelant l'API, vous obtiendrez une mesure. Pour éviter la surcharge, je mesure à chaque fois sur 1000 essais. ***Le brute force de l'API est évidemment toujours interdit, vous êtes sensé pouvoir trouver le drapeau avec moins de $30$ essais ($5$ si vous n'êtes pas trop malchanceux).*** "
   ]
  },
  {
   "cell_type": "code",
   "execution_count": null,
   "id": "07af2ecc",
   "metadata": {},
   "outputs": [],
   "source": [
    "import requests\n",
    "import json\n",
    "\n",
    "data = {\n",
    "    \"input_qubits\": angles,\n",
    "    \"hadamard_middle\": list(range(10)),\n",
    "    \"hadamard_end\": list(range(10)),\n",
    "}\n",
    "\n",
    "# Première partie du drapeau :\n",
    "url = \"https://causapscal-des-profondeurs.404ctf.fr/grover/1\"\n",
    "\n",
    "# Seconde partie du drapeau :\n",
    "# url = \"https://causapscal-des-profondeurs.404ctf.fr/grover/2\"\n",
    "f\n",
    "headers = {\"Content-Type\": \"application/json\", \"Accept\": \"application/json\"}\n",
    "response = requests.post(url, json=data, headers=headers)\n",
    "\n",
    "print(json.loads(response.content)[\"message\"])"
   ]
  }
 ],
 "metadata": {
  "kernelspec": {
   "display_name": "profondeurs",
   "language": "python",
   "name": "python3"
  },
  "language_info": {
   "codemirror_mode": {
    "name": "ipython",
    "version": 3
   },
   "file_extension": ".py",
   "mimetype": "text/x-python",
   "name": "python",
   "nbconvert_exporter": "python",
   "pygments_lexer": "ipython3",
   "version": "3.13.3"
  }
 },
 "nbformat": 4,
 "nbformat_minor": 5
}
